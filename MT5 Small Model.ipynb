{
 "cells": [
  {
   "cell_type": "markdown",
   "id": "e660b241",
   "metadata": {
    "id": "e660b241"
   },
   "source": [
    "# MT5 Small Model\n",
    "\n",
    "In this notebook, we will be fine tuning the MT5 Sequence-to-Sequence Transformer model to take a Natural Language structured card specification to Java code."
   ]
  },
  {
   "cell_type": "markdown",
   "id": "14974d65",
   "metadata": {
    "id": "14974d65"
   },
   "source": [
    "### Check for Cuda Compatibility."
   ]
  },
  {
   "cell_type": "code",
   "execution_count": 8,
   "id": "833e8cea",
   "metadata": {
    "colab": {
     "base_uri": "https://localhost:8080/"
    },
    "executionInfo": {
     "elapsed": 4401,
     "status": "ok",
     "timestamp": 1620241536357,
     "user": {
      "displayName": "Tommy Heng",
      "photoUrl": "https://lh3.googleusercontent.com/a-/AOh14Ggv_HPHPo6YvDIw2F4Blho9ykB6O9UsAw26Il4Mvw=s64",
      "userId": "07501742906589431106"
     },
     "user_tz": 240
    },
    "id": "833e8cea",
    "outputId": "02d34ef1-24e9-4d41-c2ec-664df4171ddb"
   },
   "outputs": [
    {
     "data": {
      "text/plain": [
       "True"
      ]
     },
     "execution_count": 8,
     "metadata": {},
     "output_type": "execute_result"
    }
   ],
   "source": [
    "import torch\n",
    "import torch.nn as nn\n",
    "assert torch.cuda.is_available()"
   ]
  },
  {
   "cell_type": "markdown",
   "id": "84a024a0",
   "metadata": {},
   "source": [
    "Depending on the context that this notebook is hosted on, we would use a different path location for saving and loading the model."
   ]
  },
  {
   "cell_type": "code",
   "execution_count": 9,
   "id": "cxkouxtHOmFr",
   "metadata": {
    "colab": {
     "base_uri": "https://localhost:8080/"
    },
    "executionInfo": {
     "elapsed": 55955,
     "status": "ok",
     "timestamp": 1620241588019,
     "user": {
      "displayName": "Tommy Heng",
      "photoUrl": "https://lh3.googleusercontent.com/a-/AOh14Ggv_HPHPo6YvDIw2F4Blho9ykB6O9UsAw26Il4Mvw=s64",
      "userId": "07501742906589431106"
     },
     "user_tz": 240
    },
    "id": "cxkouxtHOmFr",
    "outputId": "092da6c1-bf35-4705-c157-62808b09c632"
   },
   "outputs": [],
   "source": [
    "using_google_drive = False\n",
    "# PATH is the folder of this repository\n",
    "if using_google_drive:\n",
    "    from google.colab import drive\n",
    "    drive.mount('/content/gdrive')\n",
    "    PATH = '/content/gdrive/MyDrive/Colab Notebooks/Final Project'\n",
    "else:\n",
    "    PATH = '.'"
   ]
  },
  {
   "cell_type": "code",
   "execution_count": 10,
   "id": "4288262e",
   "metadata": {
    "id": "4288262e"
   },
   "outputs": [],
   "source": [
    "%%bash\n",
    "pip -q install transformers\n",
    "pip -q install tqdm\n",
    "pip -q install sentencepiece "
   ]
  },
  {
   "cell_type": "markdown",
   "id": "a49a3c2f",
   "metadata": {
    "id": "a49a3c2f"
   },
   "source": [
    "# Tokenizer for the MT5 Model"
   ]
  },
  {
   "cell_type": "code",
   "execution_count": 11,
   "id": "614590d1",
   "metadata": {
    "colab": {
     "base_uri": "https://localhost:8080/",
     "height": 230,
     "referenced_widgets": [
      "d58f0471214c421e99c646baad57d734",
      "c3c641358ba74e4a9332d6f8d814ed41",
      "9833cd0fe39f49c9ae241d830e43f9f7",
      "1860c6e7874f4f6b845cb95a100c9a9c",
      "f67d5b8ed651482fa43e5750548e8205",
      "c2fbacb454bc46068ddbe711eb2c9cd2",
      "001f5bf978fe4592ba0748de6799f2dc",
      "b7295f9b4cf0469a99481ead30dcac98",
      "ae381bead7824c88baec31630cd95e84",
      "8ae0f7b375474e7bbfc0db5eb804b1d8",
      "40792c686e6e445d9de8b4f9897224a8",
      "3382c206df6245c2aaca57a46ddc9243",
      "62804cf349704557a0f505571ad2a4a2",
      "d8575dd9a4b24263987afec513065df0",
      "a2aa8cb289ce4ea6aff069dc0f7d87e3",
      "de85827869b94d59ae15b23dc16b6e16",
      "63edff8a2ff7407ea54b7b262c3e2c76",
      "4873d95c620e447797203d165f4b1d0b",
      "489aec34fb4a415c8fc21394afe5508e",
      "cd2fa62a2bef4046b734dcbd5dcc2bc8",
      "1b9fd191350d4174ac37d8df8d25457b",
      "5f2f86d21a724129b84d66aad797ea32",
      "020b15af49e04903bf782c8d8ac648cb",
      "dfc9b24ff2714cb6b19ad44185bd33fa",
      "4693f573867140c0ada8a8752c33b985",
      "b6f748ece6fb4d4f8ed2fc76658050ae",
      "34e107d307b74a01ad70fe99f8e4e98a",
      "8266981e4c994d8eac1562661f2cbe72",
      "401b1df6f41646c098f1708d869a63d1",
      "39b75c061c304db7a3d89af76c740cfb",
      "0b325453e3554109b1a29da841dfe760",
      "8f61758d2e794ae9905844010a2c0649"
     ]
    },
    "executionInfo": {
     "elapsed": 78820,
     "status": "ok",
     "timestamp": 1620241610892,
     "user": {
      "displayName": "Tommy Heng",
      "photoUrl": "https://lh3.googleusercontent.com/a-/AOh14Ggv_HPHPo6YvDIw2F4Blho9ykB6O9UsAw26Il4Mvw=s64",
      "userId": "07501742906589431106"
     },
     "user_tz": 240
    },
    "id": "614590d1",
    "outputId": "8dca5d6a-6f96-438a-f6ca-8c4d22fa2a15"
   },
   "outputs": [
    {
     "name": "stdout",
     "output_type": "stream",
     "text": [
      "['▁', 'When', '▁this', '▁c', 'reature', '▁enter', 's', '▁the', '▁battle', '▁field', ',', '▁target', '▁c', 'reature', '▁los', 'es', '▁2', '▁life', '.', '</s>']\n"
     ]
    }
   ],
   "source": [
    "# Tokenizers\n",
    "import transformers\n",
    "pretrained_model_name = 'google/mt5-small'\n",
    "\n",
    "tokenizer = transformers.AutoTokenizer.from_pretrained(pretrained_model_name)\n",
    "context_ids = tokenizer.encode(\"When this creature enters the battle field, target creature loses 2 life.\")\n",
    "print(tokenizer.convert_ids_to_tokens(context_ids))"
   ]
  },
  {
   "cell_type": "markdown",
   "id": "bbf8d9b7",
   "metadata": {
    "id": "bbf8d9b7"
   },
   "source": [
    "# 1. Dataset Collection and Processing\n",
    "\n",
    "Load the dataset. The framework for making changes to individual points in the dataset is set in the `preprocess_datapoint` method, which at the moment does nothing to our dataset.\n",
    "\n",
    "## 1.1. Loading the Dataset\n",
    "\n",
    "Here, we load the training and testing datasets for magic"
   ]
  },
  {
   "cell_type": "code",
   "execution_count": 12,
   "id": "bfd61e97",
   "metadata": {
    "id": "bfd61e97"
   },
   "outputs": [],
   "source": [
    "with open(PATH + '/datasets_uwu/train_magic.in') as f:\n",
    "    train_x = f.readlines()\n",
    "with open(PATH + '/datasets_uwu/train_magic.out') as f:\n",
    "    train_y = f.readlines()\n",
    "with open(PATH + '/datasets_uwu/test_magic.in') as f:\n",
    "    test_x = f.readlines()\n",
    "with open(PATH + '/datasets_uwu/test_magic.out') as f:\n",
    "    test_y = f.readlines()\n",
    "    \n",
    "# Structure the dataset in the form of a list of {input, labels} pairs\n",
    "training_dataset = [{ 'card': x, 'code': y } for x, y in zip(train_x, train_y)]\n",
    "testing_dataset  = [{ 'card': x, 'code': y } for x, y in zip(test_x,  test_y )]\n",
    "\n",
    "dataset = {\n",
    "    \"train\": training_dataset,\n",
    "    \"test\":  testing_dataset\n",
    "}"
   ]
  },
  {
   "cell_type": "markdown",
   "id": "7e1a822e",
   "metadata": {},
   "source": [
    "## 1.2. Preprocessing a Single Datapoint\n",
    "\n",
    "To account for potential changes we might make to the dataset or card representations, we have added a method for preprocessing a single datapoint. This can involve replacing characters, removing parts of the input or output, etc. The current implementation applies no change to the dict. It can return None if we want to remove this datapoint as well. \n",
    "\n",
    "We have decided to implement the identity function for now."
   ]
  },
  {
   "cell_type": "code",
   "execution_count": 13,
   "id": "c9224fd0",
   "metadata": {},
   "outputs": [],
   "source": [
    "def preproc_init(tokenizer_for_model):\n",
    "    \"\"\" \n",
    "    Use this to assign global variables within a new thread \n",
    "    \n",
    "    Parameters\n",
    "    ----------\n",
    "    tokenizer_for_mode: fn\n",
    "        The tokenizer for the pretrained transformer model\n",
    "    \"\"\"\n",
    "    global tokenizer\n",
    "    tokenizer = tokenizer_for_model\n",
    "\n",
    "def preprocess_datapoint (datapoint):\n",
    "    \"\"\"\n",
    "    Is effectively an identity function, but is here if we do preprocessing later\n",
    "    \n",
    "    This method will preprocess a single datapoint loaded above. This can involve\n",
    "    replacing characters, removing parts of the input or output, etc. The current\n",
    "    implementation applies no change to the dict. It can return None if we want to \n",
    "    remove this datapoint as well.\n",
    "\n",
    "    Parameters\n",
    "    ----------\n",
    "    datapoint: dict\n",
    "        The dict containing the initial value of each data in the dataset.\n",
    "        Each datapoint has the following two datapoints\n",
    "        \"card\": the string for the card description and meta data\n",
    "        \"code\": the string for the card implementation in Java\n",
    "    \n",
    "    Returns\n",
    "    -------\n",
    "    dict\n",
    "        A new representation for this individual datapoint.\n",
    "    \"\"\"\n",
    "    \n",
    "    # We have access to global vars defined in preproc_init\n",
    "    return datapoint"
   ]
  },
  {
   "cell_type": "markdown",
   "id": "8add7bd7",
   "metadata": {},
   "source": [
    "## 1.3. Preprocessing the Full Dataset\n",
    "\n",
    "Here, we will using the the multiprocessing package in Python to apply our preprocessing method onto each datapoint in our dataset. "
   ]
  },
  {
   "cell_type": "code",
   "execution_count": 14,
   "id": "c1b8e1b5",
   "metadata": {
    "colab": {
     "base_uri": "https://localhost:8080/"
    },
    "executionInfo": {
     "elapsed": 86762,
     "status": "ok",
     "timestamp": 1620241618848,
     "user": {
      "displayName": "Tommy Heng",
      "photoUrl": "https://lh3.googleusercontent.com/a-/AOh14Ggv_HPHPo6YvDIw2F4Blho9ykB6O9UsAw26Il4Mvw=s64",
      "userId": "07501742906589431106"
     },
     "user_tz": 240
    },
    "id": "c1b8e1b5",
    "outputId": "10594ed0-3a02-4e56-c433-ff75b387fa7b"
   },
   "outputs": [
    {
     "name": "stderr",
     "output_type": "stream",
     "text": [
      "100%|██████████| 11969/11969 [00:00<00:00, 20032.87it/s]\n"
     ]
    }
   ],
   "source": [
    "import json\n",
    "import random\n",
    "from multiprocessing import Pool\n",
    "from tqdm import tqdm, trange\n",
    "    \n",
    "def preprocess_dataset(dataset_list, threads, tokenizer):\n",
    "    \"\"\"\n",
    "    Preprocesses the entire dataset in `threads` threads\n",
    "    \n",
    "    This method opens `threads` new threads, each with a subset of \n",
    "    the total datapoints and applies the preprocessing method onto \n",
    "    each datapoint. \n",
    "\n",
    "    Parameters\n",
    "    ----------\n",
    "    dataset_list: dict[]\n",
    "        A list of datapoints, where each datapoint is in the shape:\n",
    "        \"card\": the string for the card description and meta data\n",
    "        \"code\": the string for the card implementation in Java\n",
    "    threads: int\n",
    "        The number of threads to run the preprocessing on\n",
    "    tokenizer: fn\n",
    "        The tokenizer for the particular pretrained model\n",
    "    \n",
    "    Returns\n",
    "    -------\n",
    "    dict\n",
    "        A new representation for every datapoint in the dataset_list\n",
    "    \"\"\"\n",
    "    \n",
    "    # Open new threads and map tasks between them\n",
    "    with Pool(threads, initializer=preprocess_datapoint, initargs=(tokenizer,)) as p:\n",
    "        processed_dataset = list(tqdm(p.imap(preprocess_datapoint, dataset_list), total=len(dataset_list)))\n",
    "    # Remove None values in the list\n",
    "    processed_dataset = [x for x in processed_dataset if x]\n",
    "    \n",
    "    json.dump(processed_dataset, open(PATH + \"/processed_dataset.json\", 'w'))\n",
    "    return processed_dataset\n",
    "\n",
    "processed_dataset = preprocess_dataset(dataset['train'], 16, tokenizer)\n"
   ]
  },
  {
   "cell_type": "markdown",
   "id": "ed0f70c1",
   "metadata": {
    "id": "ed0f70c1"
   },
   "source": [
    "# 2. Building the Model\n",
    "\n",
    "Below, we define two classes. The first class, `ModelOutputs` stores the outputs of our model. The second class, `CardTranslationModel`, extends the pytorch class of models and wraps a pretrained transformer model.\n",
    "\n",
    "## 2.1. Pytoch Model Wrapper\n",
    "\n",
    "In this example, we are wrapping the MT5 Model provided by the huggingface transformers package."
   ]
  },
  {
   "cell_type": "code",
   "execution_count": 15,
   "id": "4a47d71c",
   "metadata": {
    "id": "4a47d71c"
   },
   "outputs": [],
   "source": [
    "class ModelOutputs:\n",
    "    def __init__(self, output_logits=None, loss=None):\n",
    "        \"\"\"\n",
    "        An object containing the output of the CardTranslationModel\n",
    "        \n",
    "        Parameters\n",
    "        ----------\n",
    "        output_logits : torch.tensor\n",
    "            shape (batch_size, ans_len)\n",
    "        loss : torch.tensor\n",
    "            shape (1) The loss of the output\n",
    "\n",
    "        \"\"\"\n",
    "        self.output_logits = output_logits\n",
    "        self.loss = loss\n",
    "        \n",
    "class CardTranslationModel(nn.Module):\n",
    "\n",
    "    def __init__(self, lm=None):\n",
    "        \"\"\"\n",
    "        Initializes the CardTranslationModel with the provided learning mdoel\n",
    "\n",
    "        Parameters\n",
    "        ----------\n",
    "        lm : pretrained transformer\n",
    "            The pretrained transformer which will be fine tuned for the Card Translation Task\n",
    "\n",
    "        \"\"\"\n",
    "        super(CardTranslationModel, self).__init__()\n",
    "        self.lm = lm\n",
    "    \n",
    "    def forward(self, input_ids=None, attention_mask=None, label_ids=None):\n",
    "        \"\"\"\n",
    "        The forward pass function for the wrapped transformer model.\n",
    "\n",
    "        The implementation of the Pytoch forward method. Feeds the input_ids, \n",
    "        attention_mask, and label_ids to the transformer's forward method, \n",
    "        and returns a portion of the transformer's output that is relevant \n",
    "        to our task. \n",
    "\n",
    "        Parameters\n",
    "        ----------\n",
    "        input_ids : torch.tensor\n",
    "            shape (batch_size, seq_len) ids of the concatenated input tokens\n",
    "        attention_mask : torch.tensor\n",
    "            shape (batch_size, seq_len) concatenated attention masks\n",
    "        label_ids: torch.tensor\n",
    "            shape (batch_size, ans_len) the expected code output\n",
    "\n",
    "        Returns\n",
    "        -------\n",
    "        ModelOutputs\n",
    "            A dictionary with the two outputs of our transformer model:\n",
    "            output_logits: torch.tensor\n",
    "                shape (batch_size, ans_len, vocab_size) The predicted distribution on the vocabulary\n",
    "            loss: \n",
    "                NLL loss for the batch, computed by the wrapped transformer model\n",
    "            \n",
    "\n",
    "        \"\"\"\n",
    "        # Feed our input ids into the pretrained transformer\n",
    "        lm_output = self.lm(\n",
    "            input_ids=input_ids,\n",
    "            attention_mask=attention_mask,\n",
    "            labels=label_ids,\n",
    "            use_cache=False\n",
    "        )\n",
    "            \n",
    "        return ModelOutputs(\n",
    "            output_logits=lm_output['logits'],\n",
    "            loss=lm_output['loss'])"
   ]
  },
  {
   "cell_type": "markdown",
   "id": "92c80448",
   "metadata": {},
   "source": [
    "## 2.2. Instantiating Our Model\n",
    "\n",
    "Once we have defined our wrapper, we will load to pretrained transformer model and instantiate a CardTranslationModel. We also send our model to the GPU for performance when training. "
   ]
  },
  {
   "cell_type": "code",
   "execution_count": 16,
   "id": "af30dbc7",
   "metadata": {
    "colab": {
     "base_uri": "https://localhost:8080/",
     "height": 66,
     "referenced_widgets": [
      "8d22702de8d64472a4335217d45e1a8b",
      "1c1ee1b8da1f4b4288776e0a2ca50c7b",
      "333612d88e8d49a9a94a0d99a5d8a99d",
      "d18ea8c2a761419ab219c27942951631",
      "421480e4031e47b59b39c5bb96c831ff",
      "4437750641384ca59e4160c4309f95f8",
      "579a68fc51834a3a9e2e0d13810d6327",
      "b5acfcbb3ce84da8ac7e84a768d9ac1f"
     ]
    },
    "executionInfo": {
     "elapsed": 140739,
     "status": "ok",
     "timestamp": 1620241672832,
     "user": {
      "displayName": "Tommy Heng",
      "photoUrl": "https://lh3.googleusercontent.com/a-/AOh14Ggv_HPHPo6YvDIw2F4Blho9ykB6O9UsAw26Il4Mvw=s64",
      "userId": "07501742906589431106"
     },
     "user_tz": 240
    },
    "id": "af30dbc7",
    "outputId": "5f71187d-ac95-479e-bf0b-46f82141f26c"
   },
   "outputs": [],
   "source": [
    "from transformers import MT5ForConditionalGeneration, T5Tokenizer\n",
    "\n",
    "tokenizer = T5Tokenizer.from_pretrained(pretrained_model_name)\n",
    "# Create the CardTranslationModel using the MT5 Conditional Generation model\n",
    "lm_pretrained = MT5ForConditionalGeneration.from_pretrained(pretrained_model_name)\n",
    "model = CardTranslationModel(lm_pretrained).cuda()"
   ]
  },
  {
   "cell_type": "markdown",
   "id": "58c019f2",
   "metadata": {
    "id": "58c019f2"
   },
   "source": [
    "# 3. Training\n",
    "\n",
    "Now that we have successfully loaded the pretrained model and wrapped it in a Pytoch class, we will begin training our "
   ]
  },
  {
   "cell_type": "code",
   "execution_count": 17,
   "id": "93b1c1fa",
   "metadata": {
    "colab": {
     "base_uri": "https://localhost:8080/"
    },
    "executionInfo": {
     "elapsed": 140732,
     "status": "ok",
     "timestamp": 1620241672832,
     "user": {
      "displayName": "Tommy Heng",
      "photoUrl": "https://lh3.googleusercontent.com/a-/AOh14Ggv_HPHPo6YvDIw2F4Blho9ykB6O9UsAw26Il4Mvw=s64",
      "userId": "07501742906589431106"
     },
     "user_tz": 240
    },
    "id": "93b1c1fa",
    "outputId": "c9cd7997-82a5-446d-d3b2-e4b5689e3dbd",
    "scrolled": true
   },
   "outputs": [
    {
     "name": "stdout",
     "output_type": "stream",
     "text": [
      "***** Training Info *****\n",
      "  Num examples = 5985\n",
      "  Num Epochs = 1\n",
      "  Batch size = 2\n",
      "  Total optimization steps = 5985\n"
     ]
    }
   ],
   "source": [
    "import torch\n",
    "\n",
    "# Hyper-parameters: you could try playing with different settings\n",
    "num_epochs = 1\n",
    "learning_rate = 3e-5\n",
    "weight_decay = 1e-5\n",
    "eps = 1e-6\n",
    "batch_size = 2\n",
    "card_max_length = 448\n",
    "code_max_length = 448\n",
    "\n",
    "# Calculating the number of warmup steps\n",
    "num_training_cases = len(processed_dataset)\n",
    "t_total = (num_training_cases // batch_size + 1) * num_epochs\n",
    "\n",
    "# Initializing an AdamW optimizer\n",
    "ext_optim = torch.optim.AdamW(model.parameters(), lr=learning_rate,\n",
    "                              eps=eps, weight_decay=weight_decay)\n",
    "\n",
    "print(\"***** Training Info *****\")\n",
    "print(\"  Num examples = %d\" % t_total)\n",
    "print(\"  Num Epochs = %d\" % num_epochs)\n",
    "print(\"  Batch size = %d\" % batch_size)\n",
    "print(\"  Total optimization steps = %d\" % t_total)"
   ]
  },
  {
   "cell_type": "markdown",
   "id": "96e06a5c",
   "metadata": {},
   "source": [
    "## 3.1. Vectorize Inputs\n",
    "\n",
    "The vectorize batch method takes a batch and converts it into three different `torch.tensor` instances. It receives a batch, or a subset of the preprocessed dataset, and separates into the set of expected input strings and output strings. We tokenize both sets of strings to generate a tensor for the `input_ids`, `input_attn_mask`, and `label_ids`.  "
   ]
  },
  {
   "cell_type": "code",
   "execution_count": 18,
   "id": "be52333c",
   "metadata": {
    "id": "be52333c"
   },
   "outputs": [],
   "source": [
    "def vectorize_batch(batch, tokenizer):\n",
    "    \"\"\"\n",
    "    Converts the batch of processed datapoints into separate tensors of token ids\n",
    "    \n",
    "    Converts the batch of processed datapoints into separate tensors of token ids\n",
    "    hosted on the GPU. \n",
    "    \n",
    "    Parameters\n",
    "    ----------\n",
    "    batch: dict[]\n",
    "        shape (batch_size) A list of dictionaries in the form \n",
    "    tokenizer: fn\n",
    "        Converts the batch to a tensor of input and output ids\n",
    "    \n",
    "    Returns\n",
    "    -------\n",
    "    input_ids: torch.tensor\n",
    "        shape (batch_size, max_input_len)\n",
    "    input_attn_mask: torch.tensor\n",
    "        shape (batch_size, max_input_len)\n",
    "    label_ids: torch.tensor\n",
    "        shape (batch_size, max_output_len)\n",
    "    \"\"\"\n",
    "    \n",
    "    # Separate the batch into input and output\n",
    "    card_batch = [card_data['card'] for card_data in batch]\n",
    "    code_batch = [code_data['code'] for code_data in batch]\n",
    "    \n",
    "    # Encode the card's natural language representation\n",
    "    card_encode = tokenizer.batch_encode_plus(\n",
    "        card_batch,\n",
    "        max_length = card_max_length,\n",
    "        truncation = True,\n",
    "        padding = 'longest',\n",
    "        return_attention_mask = True,\n",
    "        return_tensors = 'pt'\n",
    "    )\n",
    "\n",
    "    # Encode the card's java code representation\n",
    "    code_encode = tokenizer.batch_encode_plus(\n",
    "        code_batch,\n",
    "        max_length = code_max_length,\n",
    "        truncation = True,\n",
    "        padding = 'longest',\n",
    "        return_attention_mask = True,\n",
    "        return_tensors = 'pt'\n",
    "    )\n",
    "    \n",
    "    # Move the training batch to GPU\n",
    "    card_ids        = card_encode['input_ids'].cuda()\n",
    "    card_attn_mask  = card_encode['attention_mask'].cuda()\n",
    "    code_ids        = code_encode['input_ids'].cuda()\n",
    "    \n",
    "    return card_ids, card_attn_mask, code_ids"
   ]
  },
  {
   "cell_type": "markdown",
   "id": "a1aa0df6",
   "metadata": {},
   "source": [
    "## 3.2. Training Loop\n",
    "\n",
    "Now, we define and begin the actual training loop. It is worth noting that our dataset is very large, and as a consequence, the entire `processed_dataset` often leads to errors regarding running out of memory on the CUDA enabled device, even on the Google Machine. Thus, we had to truncate our `processed_dataset` from the total 12000 datapoints to the first couple thousand.\n",
    "\n",
    "As future work, we may wish to find a more condensed representation for the code or use models that are few-shot training to have a reduced impact on space consumption when fine-tuning the model.\n",
    "\n",
    "Because some of the training was conducted on Google Collab with limitted GPU compute time or risk of idling too long, we also exported the model periodically. To load the model, we uncomment the next block."
   ]
  },
  {
   "cell_type": "code",
   "execution_count": 19,
   "id": "6801a251",
   "metadata": {},
   "outputs": [
    {
     "data": {
      "text/plain": [
       "<All keys matched successfully>"
      ]
     },
     "execution_count": 19,
     "metadata": {},
     "output_type": "execute_result"
    }
   ],
   "source": [
    "# model.load_state_dict(torch.load(PATH + '/checkpoint'))"
   ]
  },
  {
   "cell_type": "markdown",
   "id": "f3a9705e",
   "metadata": {},
   "source": [
    "Once we have loaded our model from our checkpoint, we can resume the training below. Notice that there is an additional cell that exports the model checkpoint, overriding any previous checkpoint file that was previously at the same location with the same file name. "
   ]
  },
  {
   "cell_type": "code",
   "execution_count": 22,
   "id": "117272c8",
   "metadata": {
    "colab": {
     "base_uri": "https://localhost:8080/"
    },
    "executionInfo": {
     "elapsed": 1615299,
     "status": "ok",
     "timestamp": 1620249575617,
     "user": {
      "displayName": "Tommy Heng",
      "photoUrl": "https://lh3.googleusercontent.com/a-/AOh14Ggv_HPHPo6YvDIw2F4Blho9ykB6O9UsAw26Il4Mvw=s64",
      "userId": "07501742906589431106"
     },
     "user_tz": 240
    },
    "id": "117272c8",
    "outputId": "a3004004-4db7-4efb-9284-ff55b17420ff"
   },
   "outputs": [
    {
     "name": "stdout",
     "output_type": "stream",
     "text": [
      "At step 0, the extraction loss = 1.1861380338668823\n",
      "At step 100, the extraction loss = 0.8956267237663269\n",
      "At step 200, the extraction loss = 0.5786179304122925\n",
      "At step 300, the extraction loss = 0.41659775376319885\n",
      "At step 400, the extraction loss = 0.7746285796165466\n",
      "At step 500, the extraction loss = 0.5667914748191833\n",
      "At step 600, the extraction loss = 0.7931115031242371\n",
      "At step 700, the extraction loss = 0.7759041786193848\n",
      "At step 800, the extraction loss = 0.8454432487487793\n",
      "At step 900, the extraction loss = 0.5475283265113831\n",
      "At step 1000, the extraction loss = 0.6904891729354858\n",
      "At step 1100, the extraction loss = 0.4824003279209137\n",
      "At step 1200, the extraction loss = 0.36978965997695923\n",
      "At step 1300, the extraction loss = 0.48812296986579895\n",
      "At step 1400, the extraction loss = 0.34553778171539307\n",
      "At step 1500, the extraction loss = 0.5009756684303284\n",
      "At step 1600, the extraction loss = 0.48247480392456055\n",
      "At step 1700, the extraction loss = 0.5818668603897095\n",
      "At step 1800, the extraction loss = 0.7744419574737549\n",
      "At step 1900, the extraction loss = 0.22208604216575623\n",
      "At step 2000, the extraction loss = 0.6985129117965698\n",
      "At step 2100, the extraction loss = 0.6933037042617798\n",
      "At step 2200, the extraction loss = 0.5906581878662109\n",
      "At step 2300, the extraction loss = 0.5267524719238281\n",
      "At step 2400, the extraction loss = 0.7590264678001404\n",
      "At step 2500, the extraction loss = 0.6353989243507385\n",
      "At step 2600, the extraction loss = 0.6472474336624146\n",
      "At step 2700, the extraction loss = 0.6144990921020508\n",
      "At step 2800, the extraction loss = 0.869407057762146\n",
      "At step 2900, the extraction loss = 0.620490550994873\n",
      "Finished Training\n",
      "\n"
     ]
    }
   ],
   "source": [
    "import gc\n",
    "\n",
    "model.train()\n",
    "max_grad_norm = 1\n",
    "\n",
    "training_dataset = processed_dataset[:100]\n",
    "num_training_cases = len(training_dataset)\n",
    "\n",
    "step_id = 0\n",
    "for _ in range(num_epochs):\n",
    "\n",
    "    random.shuffle(training_dataset)\n",
    "\n",
    "    for i in range(0, num_training_cases, batch_size):\n",
    "        gc.collect()\n",
    "        torch.cuda.empty_cache()\n",
    "\n",
    "        batch = training_dataset[i: i + batch_size]\n",
    "        input_ids, input_attn_mask, label_ids = vectorize_batch(batch, tokenizer)\n",
    "\n",
    "        gc.collect()\n",
    "        torch.cuda.empty_cache()\n",
    "\n",
    "        model.zero_grad() # Does the same as ext_optim.zero_grad()\n",
    "\n",
    "        # Get the model outputs, including (start, end) logits and losses\n",
    "        # stored as a ModelOutput object\n",
    "        outputs = model(            \n",
    "            input_ids=input_ids,\n",
    "            attention_mask=input_attn_mask,\n",
    "            label_ids=label_ids\n",
    "        )\n",
    "        \n",
    "        gc.collect()\n",
    "        torch.cuda.empty_cache()\n",
    "\n",
    "        # Back-propagate the loss signal and clip the gradients\n",
    "        loss = outputs.loss.mean()\n",
    "        loss.backward()\n",
    "        torch.nn.utils.clip_grad_norm_(model.parameters(), max_grad_norm)\n",
    "\n",
    "        # Update neural network parameters and the learning rate\n",
    "        ext_optim.step()\n",
    "\n",
    "        if step_id % 100 == 0:\n",
    "            print(f'At step {step_id}, the extraction loss = {loss}')\n",
    "        \n",
    "        step_id += 1\n",
    "\n",
    "        input_ids.detach()\n",
    "        input_attn_mask.detach()\n",
    "        label_ids.detach()\n",
    "        outputs.loss.detach()\n",
    "        \n",
    "        del input_ids\n",
    "        del input_attn_mask\n",
    "        del label_ids\n",
    "        del outputs\n",
    "\n",
    "        torch.cuda.empty_cache()\n",
    "\n",
    "print('Finished Training')"
   ]
  },
  {
   "cell_type": "code",
   "execution_count": 19,
   "id": "41543893",
   "metadata": {
    "executionInfo": {
     "elapsed": 5801,
     "status": "ok",
     "timestamp": 1620249581388,
     "user": {
      "displayName": "Tommy Heng",
      "photoUrl": "https://lh3.googleusercontent.com/a-/AOh14Ggv_HPHPo6YvDIw2F4Blho9ykB6O9UsAw26Il4Mvw=s64",
      "userId": "07501742906589431106"
     },
     "user_tz": 240
    },
    "id": "41543893"
   },
   "outputs": [],
   "source": [
    "torch.save(model.state_dict(), PATH + '/checkpoint')"
   ]
  },
  {
   "cell_type": "code",
   "execution_count": null,
   "id": "99fbf66a",
   "metadata": {
    "colab": {
     "base_uri": "https://localhost:8080/"
    },
    "executionInfo": {
     "elapsed": 257,
     "status": "ok",
     "timestamp": 1620178394173,
     "user": {
      "displayName": "Tommy Heng",
      "photoUrl": "https://lh3.googleusercontent.com/a-/AOh14Ggv_HPHPo6YvDIw2F4Blho9ykB6O9UsAw26Il4Mvw=s64",
      "userId": "07501742906589431106"
     },
     "user_tz": 240
    },
    "id": "99fbf66a",
    "outputId": "f7351021-5eec-46ac-879a-8d9eef3465ea"
   },
   "outputs": [],
   "source": []
  },
  {
   "cell_type": "code",
   "execution_count": null,
   "id": "8113c214",
   "metadata": {
    "colab": {
     "base_uri": "https://localhost:8080/"
    },
    "executionInfo": {
     "elapsed": 33923,
     "status": "ok",
     "timestamp": 1620241708794,
     "user": {
      "displayName": "Tommy Heng",
      "photoUrl": "https://lh3.googleusercontent.com/a-/AOh14Ggv_HPHPo6YvDIw2F4Blho9ykB6O9UsAw26Il4Mvw=s64",
      "userId": "07501742906589431106"
     },
     "user_tz": 240
    },
    "id": "8113c214",
    "outputId": "86ad91de-ae79-437f-aaa4-1244b6863aa2"
   },
   "outputs": [],
   "source": []
  },
  {
   "cell_type": "code",
   "execution_count": null,
   "id": "64ee9f0e",
   "metadata": {
    "id": "64ee9f0e"
   },
   "outputs": [],
   "source": []
  },
  {
   "cell_type": "code",
   "execution_count": null,
   "id": "59e34677",
   "metadata": {
    "id": "59e34677"
   },
   "outputs": [],
   "source": []
  },
  {
   "cell_type": "code",
   "execution_count": null,
   "id": "fafbd5f5",
   "metadata": {
    "id": "fafbd5f5"
   },
   "outputs": [],
   "source": []
  },
  {
   "cell_type": "code",
   "execution_count": null,
   "id": "095a050d",
   "metadata": {
    "id": "095a050d"
   },
   "outputs": [],
   "source": []
  },
  {
   "cell_type": "code",
   "execution_count": null,
   "id": "d22592cc",
   "metadata": {
    "id": "d22592cc"
   },
   "outputs": [],
   "source": []
  },
  {
   "cell_type": "code",
   "execution_count": null,
   "id": "f359ba1a",
   "metadata": {
    "id": "f359ba1a"
   },
   "outputs": [],
   "source": []
  },
  {
   "cell_type": "code",
   "execution_count": null,
   "id": "8cc8400b",
   "metadata": {
    "id": "8cc8400b"
   },
   "outputs": [],
   "source": []
  }
 ],
 "metadata": {
  "accelerator": "GPU",
  "colab": {
   "collapsed_sections": [],
   "name": "MT5 Small Model.ipynb",
   "provenance": []
  },
  "kernelspec": {
   "display_name": "Python 3",
   "language": "python",
   "name": "python3"
  },
  "language_info": {
   "codemirror_mode": {
    "name": "ipython",
    "version": 3
   },
   "file_extension": ".py",
   "mimetype": "text/x-python",
   "name": "python",
   "nbconvert_exporter": "python",
   "pygments_lexer": "ipython3",
   "version": "3.8.5"
  },
  "widgets": {
   "application/vnd.jupyter.widget-state+json": {
    "001f5bf978fe4592ba0748de6799f2dc": {
     "model_module": "@jupyter-widgets/controls",
     "model_name": "DescriptionStyleModel",
     "state": {
      "_model_module": "@jupyter-widgets/controls",
      "_model_module_version": "1.5.0",
      "_model_name": "DescriptionStyleModel",
      "_view_count": null,
      "_view_module": "@jupyter-widgets/base",
      "_view_module_version": "1.2.0",
      "_view_name": "StyleView",
      "description_width": ""
     }
    },
    "020b15af49e04903bf782c8d8ac648cb": {
     "model_module": "@jupyter-widgets/controls",
     "model_name": "DescriptionStyleModel",
     "state": {
      "_model_module": "@jupyter-widgets/controls",
      "_model_module_version": "1.5.0",
      "_model_name": "DescriptionStyleModel",
      "_view_count": null,
      "_view_module": "@jupyter-widgets/base",
      "_view_module_version": "1.2.0",
      "_view_name": "StyleView",
      "description_width": ""
     }
    },
    "0b325453e3554109b1a29da841dfe760": {
     "model_module": "@jupyter-widgets/controls",
     "model_name": "DescriptionStyleModel",
     "state": {
      "_model_module": "@jupyter-widgets/controls",
      "_model_module_version": "1.5.0",
      "_model_name": "DescriptionStyleModel",
      "_view_count": null,
      "_view_module": "@jupyter-widgets/base",
      "_view_module_version": "1.2.0",
      "_view_name": "StyleView",
      "description_width": ""
     }
    },
    "1860c6e7874f4f6b845cb95a100c9a9c": {
     "model_module": "@jupyter-widgets/controls",
     "model_name": "HTMLModel",
     "state": {
      "_dom_classes": [],
      "_model_module": "@jupyter-widgets/controls",
      "_model_module_version": "1.5.0",
      "_model_name": "HTMLModel",
      "_view_count": null,
      "_view_module": "@jupyter-widgets/controls",
      "_view_module_version": "1.5.0",
      "_view_name": "HTMLView",
      "description": "",
      "description_tooltip": null,
      "layout": "IPY_MODEL_b7295f9b4cf0469a99481ead30dcac98",
      "placeholder": "​",
      "style": "IPY_MODEL_001f5bf978fe4592ba0748de6799f2dc",
      "value": " 553/553 [00:06&lt;00:00, 81.6B/s]"
     }
    },
    "1b9fd191350d4174ac37d8df8d25457b": {
     "model_module": "@jupyter-widgets/controls",
     "model_name": "ProgressStyleModel",
     "state": {
      "_model_module": "@jupyter-widgets/controls",
      "_model_module_version": "1.5.0",
      "_model_name": "ProgressStyleModel",
      "_view_count": null,
      "_view_module": "@jupyter-widgets/base",
      "_view_module_version": "1.2.0",
      "_view_name": "StyleView",
      "bar_color": null,
      "description_width": "initial"
     }
    },
    "1c1ee1b8da1f4b4288776e0a2ca50c7b": {
     "model_module": "@jupyter-widgets/base",
     "model_name": "LayoutModel",
     "state": {
      "_model_module": "@jupyter-widgets/base",
      "_model_module_version": "1.2.0",
      "_model_name": "LayoutModel",
      "_view_count": null,
      "_view_module": "@jupyter-widgets/base",
      "_view_module_version": "1.2.0",
      "_view_name": "LayoutView",
      "align_content": null,
      "align_items": null,
      "align_self": null,
      "border": null,
      "bottom": null,
      "display": null,
      "flex": null,
      "flex_flow": null,
      "grid_area": null,
      "grid_auto_columns": null,
      "grid_auto_flow": null,
      "grid_auto_rows": null,
      "grid_column": null,
      "grid_gap": null,
      "grid_row": null,
      "grid_template_areas": null,
      "grid_template_columns": null,
      "grid_template_rows": null,
      "height": null,
      "justify_content": null,
      "justify_items": null,
      "left": null,
      "margin": null,
      "max_height": null,
      "max_width": null,
      "min_height": null,
      "min_width": null,
      "object_fit": null,
      "object_position": null,
      "order": null,
      "overflow": null,
      "overflow_x": null,
      "overflow_y": null,
      "padding": null,
      "right": null,
      "top": null,
      "visibility": null,
      "width": null
     }
    },
    "333612d88e8d49a9a94a0d99a5d8a99d": {
     "model_module": "@jupyter-widgets/controls",
     "model_name": "FloatProgressModel",
     "state": {
      "_dom_classes": [],
      "_model_module": "@jupyter-widgets/controls",
      "_model_module_version": "1.5.0",
      "_model_name": "FloatProgressModel",
      "_view_count": null,
      "_view_module": "@jupyter-widgets/controls",
      "_view_module_version": "1.5.0",
      "_view_name": "ProgressView",
      "bar_style": "success",
      "description": "Downloading: 100%",
      "description_tooltip": null,
      "layout": "IPY_MODEL_4437750641384ca59e4160c4309f95f8",
      "max": 1200794589,
      "min": 0,
      "orientation": "horizontal",
      "style": "IPY_MODEL_421480e4031e47b59b39c5bb96c831ff",
      "value": 1200794589
     }
    },
    "3382c206df6245c2aaca57a46ddc9243": {
     "model_module": "@jupyter-widgets/controls",
     "model_name": "HTMLModel",
     "state": {
      "_dom_classes": [],
      "_model_module": "@jupyter-widgets/controls",
      "_model_module_version": "1.5.0",
      "_model_name": "HTMLModel",
      "_view_count": null,
      "_view_module": "@jupyter-widgets/controls",
      "_view_module_version": "1.5.0",
      "_view_name": "HTMLView",
      "description": "",
      "description_tooltip": null,
      "layout": "IPY_MODEL_de85827869b94d59ae15b23dc16b6e16",
      "placeholder": "​",
      "style": "IPY_MODEL_a2aa8cb289ce4ea6aff069dc0f7d87e3",
      "value": " 4.31M/4.31M [00:03&lt;00:00, 1.18MB/s]"
     }
    },
    "34e107d307b74a01ad70fe99f8e4e98a": {
     "model_module": "@jupyter-widgets/controls",
     "model_name": "FloatProgressModel",
     "state": {
      "_dom_classes": [],
      "_model_module": "@jupyter-widgets/controls",
      "_model_module_version": "1.5.0",
      "_model_name": "FloatProgressModel",
      "_view_count": null,
      "_view_module": "@jupyter-widgets/controls",
      "_view_module_version": "1.5.0",
      "_view_name": "ProgressView",
      "bar_style": "success",
      "description": "Downloading: 100%",
      "description_tooltip": null,
      "layout": "IPY_MODEL_39b75c061c304db7a3d89af76c740cfb",
      "max": 82,
      "min": 0,
      "orientation": "horizontal",
      "style": "IPY_MODEL_401b1df6f41646c098f1708d869a63d1",
      "value": 82
     }
    },
    "39b75c061c304db7a3d89af76c740cfb": {
     "model_module": "@jupyter-widgets/base",
     "model_name": "LayoutModel",
     "state": {
      "_model_module": "@jupyter-widgets/base",
      "_model_module_version": "1.2.0",
      "_model_name": "LayoutModel",
      "_view_count": null,
      "_view_module": "@jupyter-widgets/base",
      "_view_module_version": "1.2.0",
      "_view_name": "LayoutView",
      "align_content": null,
      "align_items": null,
      "align_self": null,
      "border": null,
      "bottom": null,
      "display": null,
      "flex": null,
      "flex_flow": null,
      "grid_area": null,
      "grid_auto_columns": null,
      "grid_auto_flow": null,
      "grid_auto_rows": null,
      "grid_column": null,
      "grid_gap": null,
      "grid_row": null,
      "grid_template_areas": null,
      "grid_template_columns": null,
      "grid_template_rows": null,
      "height": null,
      "justify_content": null,
      "justify_items": null,
      "left": null,
      "margin": null,
      "max_height": null,
      "max_width": null,
      "min_height": null,
      "min_width": null,
      "object_fit": null,
      "object_position": null,
      "order": null,
      "overflow": null,
      "overflow_x": null,
      "overflow_y": null,
      "padding": null,
      "right": null,
      "top": null,
      "visibility": null,
      "width": null
     }
    },
    "401b1df6f41646c098f1708d869a63d1": {
     "model_module": "@jupyter-widgets/controls",
     "model_name": "ProgressStyleModel",
     "state": {
      "_model_module": "@jupyter-widgets/controls",
      "_model_module_version": "1.5.0",
      "_model_name": "ProgressStyleModel",
      "_view_count": null,
      "_view_module": "@jupyter-widgets/base",
      "_view_module_version": "1.2.0",
      "_view_name": "StyleView",
      "bar_color": null,
      "description_width": "initial"
     }
    },
    "40792c686e6e445d9de8b4f9897224a8": {
     "model_module": "@jupyter-widgets/controls",
     "model_name": "FloatProgressModel",
     "state": {
      "_dom_classes": [],
      "_model_module": "@jupyter-widgets/controls",
      "_model_module_version": "1.5.0",
      "_model_name": "FloatProgressModel",
      "_view_count": null,
      "_view_module": "@jupyter-widgets/controls",
      "_view_module_version": "1.5.0",
      "_view_name": "ProgressView",
      "bar_style": "success",
      "description": "Downloading: 100%",
      "description_tooltip": null,
      "layout": "IPY_MODEL_d8575dd9a4b24263987afec513065df0",
      "max": 4309802,
      "min": 0,
      "orientation": "horizontal",
      "style": "IPY_MODEL_62804cf349704557a0f505571ad2a4a2",
      "value": 4309802
     }
    },
    "421480e4031e47b59b39c5bb96c831ff": {
     "model_module": "@jupyter-widgets/controls",
     "model_name": "ProgressStyleModel",
     "state": {
      "_model_module": "@jupyter-widgets/controls",
      "_model_module_version": "1.5.0",
      "_model_name": "ProgressStyleModel",
      "_view_count": null,
      "_view_module": "@jupyter-widgets/base",
      "_view_module_version": "1.2.0",
      "_view_name": "StyleView",
      "bar_color": null,
      "description_width": "initial"
     }
    },
    "4437750641384ca59e4160c4309f95f8": {
     "model_module": "@jupyter-widgets/base",
     "model_name": "LayoutModel",
     "state": {
      "_model_module": "@jupyter-widgets/base",
      "_model_module_version": "1.2.0",
      "_model_name": "LayoutModel",
      "_view_count": null,
      "_view_module": "@jupyter-widgets/base",
      "_view_module_version": "1.2.0",
      "_view_name": "LayoutView",
      "align_content": null,
      "align_items": null,
      "align_self": null,
      "border": null,
      "bottom": null,
      "display": null,
      "flex": null,
      "flex_flow": null,
      "grid_area": null,
      "grid_auto_columns": null,
      "grid_auto_flow": null,
      "grid_auto_rows": null,
      "grid_column": null,
      "grid_gap": null,
      "grid_row": null,
      "grid_template_areas": null,
      "grid_template_columns": null,
      "grid_template_rows": null,
      "height": null,
      "justify_content": null,
      "justify_items": null,
      "left": null,
      "margin": null,
      "max_height": null,
      "max_width": null,
      "min_height": null,
      "min_width": null,
      "object_fit": null,
      "object_position": null,
      "order": null,
      "overflow": null,
      "overflow_x": null,
      "overflow_y": null,
      "padding": null,
      "right": null,
      "top": null,
      "visibility": null,
      "width": null
     }
    },
    "4693f573867140c0ada8a8752c33b985": {
     "model_module": "@jupyter-widgets/controls",
     "model_name": "HBoxModel",
     "state": {
      "_dom_classes": [],
      "_model_module": "@jupyter-widgets/controls",
      "_model_module_version": "1.5.0",
      "_model_name": "HBoxModel",
      "_view_count": null,
      "_view_module": "@jupyter-widgets/controls",
      "_view_module_version": "1.5.0",
      "_view_name": "HBoxView",
      "box_style": "",
      "children": [
       "IPY_MODEL_34e107d307b74a01ad70fe99f8e4e98a",
       "IPY_MODEL_8266981e4c994d8eac1562661f2cbe72"
      ],
      "layout": "IPY_MODEL_b6f748ece6fb4d4f8ed2fc76658050ae"
     }
    },
    "4873d95c620e447797203d165f4b1d0b": {
     "model_module": "@jupyter-widgets/base",
     "model_name": "LayoutModel",
     "state": {
      "_model_module": "@jupyter-widgets/base",
      "_model_module_version": "1.2.0",
      "_model_name": "LayoutModel",
      "_view_count": null,
      "_view_module": "@jupyter-widgets/base",
      "_view_module_version": "1.2.0",
      "_view_name": "LayoutView",
      "align_content": null,
      "align_items": null,
      "align_self": null,
      "border": null,
      "bottom": null,
      "display": null,
      "flex": null,
      "flex_flow": null,
      "grid_area": null,
      "grid_auto_columns": null,
      "grid_auto_flow": null,
      "grid_auto_rows": null,
      "grid_column": null,
      "grid_gap": null,
      "grid_row": null,
      "grid_template_areas": null,
      "grid_template_columns": null,
      "grid_template_rows": null,
      "height": null,
      "justify_content": null,
      "justify_items": null,
      "left": null,
      "margin": null,
      "max_height": null,
      "max_width": null,
      "min_height": null,
      "min_width": null,
      "object_fit": null,
      "object_position": null,
      "order": null,
      "overflow": null,
      "overflow_x": null,
      "overflow_y": null,
      "padding": null,
      "right": null,
      "top": null,
      "visibility": null,
      "width": null
     }
    },
    "489aec34fb4a415c8fc21394afe5508e": {
     "model_module": "@jupyter-widgets/controls",
     "model_name": "FloatProgressModel",
     "state": {
      "_dom_classes": [],
      "_model_module": "@jupyter-widgets/controls",
      "_model_module_version": "1.5.0",
      "_model_name": "FloatProgressModel",
      "_view_count": null,
      "_view_module": "@jupyter-widgets/controls",
      "_view_module_version": "1.5.0",
      "_view_name": "ProgressView",
      "bar_style": "success",
      "description": "Downloading: 100%",
      "description_tooltip": null,
      "layout": "IPY_MODEL_5f2f86d21a724129b84d66aad797ea32",
      "max": 99,
      "min": 0,
      "orientation": "horizontal",
      "style": "IPY_MODEL_1b9fd191350d4174ac37d8df8d25457b",
      "value": 99
     }
    },
    "579a68fc51834a3a9e2e0d13810d6327": {
     "model_module": "@jupyter-widgets/controls",
     "model_name": "DescriptionStyleModel",
     "state": {
      "_model_module": "@jupyter-widgets/controls",
      "_model_module_version": "1.5.0",
      "_model_name": "DescriptionStyleModel",
      "_view_count": null,
      "_view_module": "@jupyter-widgets/base",
      "_view_module_version": "1.2.0",
      "_view_name": "StyleView",
      "description_width": ""
     }
    },
    "5f2f86d21a724129b84d66aad797ea32": {
     "model_module": "@jupyter-widgets/base",
     "model_name": "LayoutModel",
     "state": {
      "_model_module": "@jupyter-widgets/base",
      "_model_module_version": "1.2.0",
      "_model_name": "LayoutModel",
      "_view_count": null,
      "_view_module": "@jupyter-widgets/base",
      "_view_module_version": "1.2.0",
      "_view_name": "LayoutView",
      "align_content": null,
      "align_items": null,
      "align_self": null,
      "border": null,
      "bottom": null,
      "display": null,
      "flex": null,
      "flex_flow": null,
      "grid_area": null,
      "grid_auto_columns": null,
      "grid_auto_flow": null,
      "grid_auto_rows": null,
      "grid_column": null,
      "grid_gap": null,
      "grid_row": null,
      "grid_template_areas": null,
      "grid_template_columns": null,
      "grid_template_rows": null,
      "height": null,
      "justify_content": null,
      "justify_items": null,
      "left": null,
      "margin": null,
      "max_height": null,
      "max_width": null,
      "min_height": null,
      "min_width": null,
      "object_fit": null,
      "object_position": null,
      "order": null,
      "overflow": null,
      "overflow_x": null,
      "overflow_y": null,
      "padding": null,
      "right": null,
      "top": null,
      "visibility": null,
      "width": null
     }
    },
    "62804cf349704557a0f505571ad2a4a2": {
     "model_module": "@jupyter-widgets/controls",
     "model_name": "ProgressStyleModel",
     "state": {
      "_model_module": "@jupyter-widgets/controls",
      "_model_module_version": "1.5.0",
      "_model_name": "ProgressStyleModel",
      "_view_count": null,
      "_view_module": "@jupyter-widgets/base",
      "_view_module_version": "1.2.0",
      "_view_name": "StyleView",
      "bar_color": null,
      "description_width": "initial"
     }
    },
    "63edff8a2ff7407ea54b7b262c3e2c76": {
     "model_module": "@jupyter-widgets/controls",
     "model_name": "HBoxModel",
     "state": {
      "_dom_classes": [],
      "_model_module": "@jupyter-widgets/controls",
      "_model_module_version": "1.5.0",
      "_model_name": "HBoxModel",
      "_view_count": null,
      "_view_module": "@jupyter-widgets/controls",
      "_view_module_version": "1.5.0",
      "_view_name": "HBoxView",
      "box_style": "",
      "children": [
       "IPY_MODEL_489aec34fb4a415c8fc21394afe5508e",
       "IPY_MODEL_cd2fa62a2bef4046b734dcbd5dcc2bc8"
      ],
      "layout": "IPY_MODEL_4873d95c620e447797203d165f4b1d0b"
     }
    },
    "8266981e4c994d8eac1562661f2cbe72": {
     "model_module": "@jupyter-widgets/controls",
     "model_name": "HTMLModel",
     "state": {
      "_dom_classes": [],
      "_model_module": "@jupyter-widgets/controls",
      "_model_module_version": "1.5.0",
      "_model_name": "HTMLModel",
      "_view_count": null,
      "_view_module": "@jupyter-widgets/controls",
      "_view_module_version": "1.5.0",
      "_view_name": "HTMLView",
      "description": "",
      "description_tooltip": null,
      "layout": "IPY_MODEL_8f61758d2e794ae9905844010a2c0649",
      "placeholder": "​",
      "style": "IPY_MODEL_0b325453e3554109b1a29da841dfe760",
      "value": " 82.0/82.0 [00:00&lt;00:00, 153B/s]"
     }
    },
    "8ae0f7b375474e7bbfc0db5eb804b1d8": {
     "model_module": "@jupyter-widgets/base",
     "model_name": "LayoutModel",
     "state": {
      "_model_module": "@jupyter-widgets/base",
      "_model_module_version": "1.2.0",
      "_model_name": "LayoutModel",
      "_view_count": null,
      "_view_module": "@jupyter-widgets/base",
      "_view_module_version": "1.2.0",
      "_view_name": "LayoutView",
      "align_content": null,
      "align_items": null,
      "align_self": null,
      "border": null,
      "bottom": null,
      "display": null,
      "flex": null,
      "flex_flow": null,
      "grid_area": null,
      "grid_auto_columns": null,
      "grid_auto_flow": null,
      "grid_auto_rows": null,
      "grid_column": null,
      "grid_gap": null,
      "grid_row": null,
      "grid_template_areas": null,
      "grid_template_columns": null,
      "grid_template_rows": null,
      "height": null,
      "justify_content": null,
      "justify_items": null,
      "left": null,
      "margin": null,
      "max_height": null,
      "max_width": null,
      "min_height": null,
      "min_width": null,
      "object_fit": null,
      "object_position": null,
      "order": null,
      "overflow": null,
      "overflow_x": null,
      "overflow_y": null,
      "padding": null,
      "right": null,
      "top": null,
      "visibility": null,
      "width": null
     }
    },
    "8d22702de8d64472a4335217d45e1a8b": {
     "model_module": "@jupyter-widgets/controls",
     "model_name": "HBoxModel",
     "state": {
      "_dom_classes": [],
      "_model_module": "@jupyter-widgets/controls",
      "_model_module_version": "1.5.0",
      "_model_name": "HBoxModel",
      "_view_count": null,
      "_view_module": "@jupyter-widgets/controls",
      "_view_module_version": "1.5.0",
      "_view_name": "HBoxView",
      "box_style": "",
      "children": [
       "IPY_MODEL_333612d88e8d49a9a94a0d99a5d8a99d",
       "IPY_MODEL_d18ea8c2a761419ab219c27942951631"
      ],
      "layout": "IPY_MODEL_1c1ee1b8da1f4b4288776e0a2ca50c7b"
     }
    },
    "8f61758d2e794ae9905844010a2c0649": {
     "model_module": "@jupyter-widgets/base",
     "model_name": "LayoutModel",
     "state": {
      "_model_module": "@jupyter-widgets/base",
      "_model_module_version": "1.2.0",
      "_model_name": "LayoutModel",
      "_view_count": null,
      "_view_module": "@jupyter-widgets/base",
      "_view_module_version": "1.2.0",
      "_view_name": "LayoutView",
      "align_content": null,
      "align_items": null,
      "align_self": null,
      "border": null,
      "bottom": null,
      "display": null,
      "flex": null,
      "flex_flow": null,
      "grid_area": null,
      "grid_auto_columns": null,
      "grid_auto_flow": null,
      "grid_auto_rows": null,
      "grid_column": null,
      "grid_gap": null,
      "grid_row": null,
      "grid_template_areas": null,
      "grid_template_columns": null,
      "grid_template_rows": null,
      "height": null,
      "justify_content": null,
      "justify_items": null,
      "left": null,
      "margin": null,
      "max_height": null,
      "max_width": null,
      "min_height": null,
      "min_width": null,
      "object_fit": null,
      "object_position": null,
      "order": null,
      "overflow": null,
      "overflow_x": null,
      "overflow_y": null,
      "padding": null,
      "right": null,
      "top": null,
      "visibility": null,
      "width": null
     }
    },
    "9833cd0fe39f49c9ae241d830e43f9f7": {
     "model_module": "@jupyter-widgets/controls",
     "model_name": "FloatProgressModel",
     "state": {
      "_dom_classes": [],
      "_model_module": "@jupyter-widgets/controls",
      "_model_module_version": "1.5.0",
      "_model_name": "FloatProgressModel",
      "_view_count": null,
      "_view_module": "@jupyter-widgets/controls",
      "_view_module_version": "1.5.0",
      "_view_name": "ProgressView",
      "bar_style": "success",
      "description": "Downloading: 100%",
      "description_tooltip": null,
      "layout": "IPY_MODEL_c2fbacb454bc46068ddbe711eb2c9cd2",
      "max": 553,
      "min": 0,
      "orientation": "horizontal",
      "style": "IPY_MODEL_f67d5b8ed651482fa43e5750548e8205",
      "value": 553
     }
    },
    "a2aa8cb289ce4ea6aff069dc0f7d87e3": {
     "model_module": "@jupyter-widgets/controls",
     "model_name": "DescriptionStyleModel",
     "state": {
      "_model_module": "@jupyter-widgets/controls",
      "_model_module_version": "1.5.0",
      "_model_name": "DescriptionStyleModel",
      "_view_count": null,
      "_view_module": "@jupyter-widgets/base",
      "_view_module_version": "1.2.0",
      "_view_name": "StyleView",
      "description_width": ""
     }
    },
    "ae381bead7824c88baec31630cd95e84": {
     "model_module": "@jupyter-widgets/controls",
     "model_name": "HBoxModel",
     "state": {
      "_dom_classes": [],
      "_model_module": "@jupyter-widgets/controls",
      "_model_module_version": "1.5.0",
      "_model_name": "HBoxModel",
      "_view_count": null,
      "_view_module": "@jupyter-widgets/controls",
      "_view_module_version": "1.5.0",
      "_view_name": "HBoxView",
      "box_style": "",
      "children": [
       "IPY_MODEL_40792c686e6e445d9de8b4f9897224a8",
       "IPY_MODEL_3382c206df6245c2aaca57a46ddc9243"
      ],
      "layout": "IPY_MODEL_8ae0f7b375474e7bbfc0db5eb804b1d8"
     }
    },
    "b5acfcbb3ce84da8ac7e84a768d9ac1f": {
     "model_module": "@jupyter-widgets/base",
     "model_name": "LayoutModel",
     "state": {
      "_model_module": "@jupyter-widgets/base",
      "_model_module_version": "1.2.0",
      "_model_name": "LayoutModel",
      "_view_count": null,
      "_view_module": "@jupyter-widgets/base",
      "_view_module_version": "1.2.0",
      "_view_name": "LayoutView",
      "align_content": null,
      "align_items": null,
      "align_self": null,
      "border": null,
      "bottom": null,
      "display": null,
      "flex": null,
      "flex_flow": null,
      "grid_area": null,
      "grid_auto_columns": null,
      "grid_auto_flow": null,
      "grid_auto_rows": null,
      "grid_column": null,
      "grid_gap": null,
      "grid_row": null,
      "grid_template_areas": null,
      "grid_template_columns": null,
      "grid_template_rows": null,
      "height": null,
      "justify_content": null,
      "justify_items": null,
      "left": null,
      "margin": null,
      "max_height": null,
      "max_width": null,
      "min_height": null,
      "min_width": null,
      "object_fit": null,
      "object_position": null,
      "order": null,
      "overflow": null,
      "overflow_x": null,
      "overflow_y": null,
      "padding": null,
      "right": null,
      "top": null,
      "visibility": null,
      "width": null
     }
    },
    "b6f748ece6fb4d4f8ed2fc76658050ae": {
     "model_module": "@jupyter-widgets/base",
     "model_name": "LayoutModel",
     "state": {
      "_model_module": "@jupyter-widgets/base",
      "_model_module_version": "1.2.0",
      "_model_name": "LayoutModel",
      "_view_count": null,
      "_view_module": "@jupyter-widgets/base",
      "_view_module_version": "1.2.0",
      "_view_name": "LayoutView",
      "align_content": null,
      "align_items": null,
      "align_self": null,
      "border": null,
      "bottom": null,
      "display": null,
      "flex": null,
      "flex_flow": null,
      "grid_area": null,
      "grid_auto_columns": null,
      "grid_auto_flow": null,
      "grid_auto_rows": null,
      "grid_column": null,
      "grid_gap": null,
      "grid_row": null,
      "grid_template_areas": null,
      "grid_template_columns": null,
      "grid_template_rows": null,
      "height": null,
      "justify_content": null,
      "justify_items": null,
      "left": null,
      "margin": null,
      "max_height": null,
      "max_width": null,
      "min_height": null,
      "min_width": null,
      "object_fit": null,
      "object_position": null,
      "order": null,
      "overflow": null,
      "overflow_x": null,
      "overflow_y": null,
      "padding": null,
      "right": null,
      "top": null,
      "visibility": null,
      "width": null
     }
    },
    "b7295f9b4cf0469a99481ead30dcac98": {
     "model_module": "@jupyter-widgets/base",
     "model_name": "LayoutModel",
     "state": {
      "_model_module": "@jupyter-widgets/base",
      "_model_module_version": "1.2.0",
      "_model_name": "LayoutModel",
      "_view_count": null,
      "_view_module": "@jupyter-widgets/base",
      "_view_module_version": "1.2.0",
      "_view_name": "LayoutView",
      "align_content": null,
      "align_items": null,
      "align_self": null,
      "border": null,
      "bottom": null,
      "display": null,
      "flex": null,
      "flex_flow": null,
      "grid_area": null,
      "grid_auto_columns": null,
      "grid_auto_flow": null,
      "grid_auto_rows": null,
      "grid_column": null,
      "grid_gap": null,
      "grid_row": null,
      "grid_template_areas": null,
      "grid_template_columns": null,
      "grid_template_rows": null,
      "height": null,
      "justify_content": null,
      "justify_items": null,
      "left": null,
      "margin": null,
      "max_height": null,
      "max_width": null,
      "min_height": null,
      "min_width": null,
      "object_fit": null,
      "object_position": null,
      "order": null,
      "overflow": null,
      "overflow_x": null,
      "overflow_y": null,
      "padding": null,
      "right": null,
      "top": null,
      "visibility": null,
      "width": null
     }
    },
    "c2fbacb454bc46068ddbe711eb2c9cd2": {
     "model_module": "@jupyter-widgets/base",
     "model_name": "LayoutModel",
     "state": {
      "_model_module": "@jupyter-widgets/base",
      "_model_module_version": "1.2.0",
      "_model_name": "LayoutModel",
      "_view_count": null,
      "_view_module": "@jupyter-widgets/base",
      "_view_module_version": "1.2.0",
      "_view_name": "LayoutView",
      "align_content": null,
      "align_items": null,
      "align_self": null,
      "border": null,
      "bottom": null,
      "display": null,
      "flex": null,
      "flex_flow": null,
      "grid_area": null,
      "grid_auto_columns": null,
      "grid_auto_flow": null,
      "grid_auto_rows": null,
      "grid_column": null,
      "grid_gap": null,
      "grid_row": null,
      "grid_template_areas": null,
      "grid_template_columns": null,
      "grid_template_rows": null,
      "height": null,
      "justify_content": null,
      "justify_items": null,
      "left": null,
      "margin": null,
      "max_height": null,
      "max_width": null,
      "min_height": null,
      "min_width": null,
      "object_fit": null,
      "object_position": null,
      "order": null,
      "overflow": null,
      "overflow_x": null,
      "overflow_y": null,
      "padding": null,
      "right": null,
      "top": null,
      "visibility": null,
      "width": null
     }
    },
    "c3c641358ba74e4a9332d6f8d814ed41": {
     "model_module": "@jupyter-widgets/base",
     "model_name": "LayoutModel",
     "state": {
      "_model_module": "@jupyter-widgets/base",
      "_model_module_version": "1.2.0",
      "_model_name": "LayoutModel",
      "_view_count": null,
      "_view_module": "@jupyter-widgets/base",
      "_view_module_version": "1.2.0",
      "_view_name": "LayoutView",
      "align_content": null,
      "align_items": null,
      "align_self": null,
      "border": null,
      "bottom": null,
      "display": null,
      "flex": null,
      "flex_flow": null,
      "grid_area": null,
      "grid_auto_columns": null,
      "grid_auto_flow": null,
      "grid_auto_rows": null,
      "grid_column": null,
      "grid_gap": null,
      "grid_row": null,
      "grid_template_areas": null,
      "grid_template_columns": null,
      "grid_template_rows": null,
      "height": null,
      "justify_content": null,
      "justify_items": null,
      "left": null,
      "margin": null,
      "max_height": null,
      "max_width": null,
      "min_height": null,
      "min_width": null,
      "object_fit": null,
      "object_position": null,
      "order": null,
      "overflow": null,
      "overflow_x": null,
      "overflow_y": null,
      "padding": null,
      "right": null,
      "top": null,
      "visibility": null,
      "width": null
     }
    },
    "cd2fa62a2bef4046b734dcbd5dcc2bc8": {
     "model_module": "@jupyter-widgets/controls",
     "model_name": "HTMLModel",
     "state": {
      "_dom_classes": [],
      "_model_module": "@jupyter-widgets/controls",
      "_model_module_version": "1.5.0",
      "_model_name": "HTMLModel",
      "_view_count": null,
      "_view_module": "@jupyter-widgets/controls",
      "_view_module_version": "1.5.0",
      "_view_name": "HTMLView",
      "description": "",
      "description_tooltip": null,
      "layout": "IPY_MODEL_dfc9b24ff2714cb6b19ad44185bd33fa",
      "placeholder": "​",
      "style": "IPY_MODEL_020b15af49e04903bf782c8d8ac648cb",
      "value": " 99.0/99.0 [00:01&lt;00:00, 58.4B/s]"
     }
    },
    "d18ea8c2a761419ab219c27942951631": {
     "model_module": "@jupyter-widgets/controls",
     "model_name": "HTMLModel",
     "state": {
      "_dom_classes": [],
      "_model_module": "@jupyter-widgets/controls",
      "_model_module_version": "1.5.0",
      "_model_name": "HTMLModel",
      "_view_count": null,
      "_view_module": "@jupyter-widgets/controls",
      "_view_module_version": "1.5.0",
      "_view_name": "HTMLView",
      "description": "",
      "description_tooltip": null,
      "layout": "IPY_MODEL_b5acfcbb3ce84da8ac7e84a768d9ac1f",
      "placeholder": "​",
      "style": "IPY_MODEL_579a68fc51834a3a9e2e0d13810d6327",
      "value": " 1.20G/1.20G [00:33&lt;00:00, 35.8MB/s]"
     }
    },
    "d58f0471214c421e99c646baad57d734": {
     "model_module": "@jupyter-widgets/controls",
     "model_name": "HBoxModel",
     "state": {
      "_dom_classes": [],
      "_model_module": "@jupyter-widgets/controls",
      "_model_module_version": "1.5.0",
      "_model_name": "HBoxModel",
      "_view_count": null,
      "_view_module": "@jupyter-widgets/controls",
      "_view_module_version": "1.5.0",
      "_view_name": "HBoxView",
      "box_style": "",
      "children": [
       "IPY_MODEL_9833cd0fe39f49c9ae241d830e43f9f7",
       "IPY_MODEL_1860c6e7874f4f6b845cb95a100c9a9c"
      ],
      "layout": "IPY_MODEL_c3c641358ba74e4a9332d6f8d814ed41"
     }
    },
    "d8575dd9a4b24263987afec513065df0": {
     "model_module": "@jupyter-widgets/base",
     "model_name": "LayoutModel",
     "state": {
      "_model_module": "@jupyter-widgets/base",
      "_model_module_version": "1.2.0",
      "_model_name": "LayoutModel",
      "_view_count": null,
      "_view_module": "@jupyter-widgets/base",
      "_view_module_version": "1.2.0",
      "_view_name": "LayoutView",
      "align_content": null,
      "align_items": null,
      "align_self": null,
      "border": null,
      "bottom": null,
      "display": null,
      "flex": null,
      "flex_flow": null,
      "grid_area": null,
      "grid_auto_columns": null,
      "grid_auto_flow": null,
      "grid_auto_rows": null,
      "grid_column": null,
      "grid_gap": null,
      "grid_row": null,
      "grid_template_areas": null,
      "grid_template_columns": null,
      "grid_template_rows": null,
      "height": null,
      "justify_content": null,
      "justify_items": null,
      "left": null,
      "margin": null,
      "max_height": null,
      "max_width": null,
      "min_height": null,
      "min_width": null,
      "object_fit": null,
      "object_position": null,
      "order": null,
      "overflow": null,
      "overflow_x": null,
      "overflow_y": null,
      "padding": null,
      "right": null,
      "top": null,
      "visibility": null,
      "width": null
     }
    },
    "de85827869b94d59ae15b23dc16b6e16": {
     "model_module": "@jupyter-widgets/base",
     "model_name": "LayoutModel",
     "state": {
      "_model_module": "@jupyter-widgets/base",
      "_model_module_version": "1.2.0",
      "_model_name": "LayoutModel",
      "_view_count": null,
      "_view_module": "@jupyter-widgets/base",
      "_view_module_version": "1.2.0",
      "_view_name": "LayoutView",
      "align_content": null,
      "align_items": null,
      "align_self": null,
      "border": null,
      "bottom": null,
      "display": null,
      "flex": null,
      "flex_flow": null,
      "grid_area": null,
      "grid_auto_columns": null,
      "grid_auto_flow": null,
      "grid_auto_rows": null,
      "grid_column": null,
      "grid_gap": null,
      "grid_row": null,
      "grid_template_areas": null,
      "grid_template_columns": null,
      "grid_template_rows": null,
      "height": null,
      "justify_content": null,
      "justify_items": null,
      "left": null,
      "margin": null,
      "max_height": null,
      "max_width": null,
      "min_height": null,
      "min_width": null,
      "object_fit": null,
      "object_position": null,
      "order": null,
      "overflow": null,
      "overflow_x": null,
      "overflow_y": null,
      "padding": null,
      "right": null,
      "top": null,
      "visibility": null,
      "width": null
     }
    },
    "dfc9b24ff2714cb6b19ad44185bd33fa": {
     "model_module": "@jupyter-widgets/base",
     "model_name": "LayoutModel",
     "state": {
      "_model_module": "@jupyter-widgets/base",
      "_model_module_version": "1.2.0",
      "_model_name": "LayoutModel",
      "_view_count": null,
      "_view_module": "@jupyter-widgets/base",
      "_view_module_version": "1.2.0",
      "_view_name": "LayoutView",
      "align_content": null,
      "align_items": null,
      "align_self": null,
      "border": null,
      "bottom": null,
      "display": null,
      "flex": null,
      "flex_flow": null,
      "grid_area": null,
      "grid_auto_columns": null,
      "grid_auto_flow": null,
      "grid_auto_rows": null,
      "grid_column": null,
      "grid_gap": null,
      "grid_row": null,
      "grid_template_areas": null,
      "grid_template_columns": null,
      "grid_template_rows": null,
      "height": null,
      "justify_content": null,
      "justify_items": null,
      "left": null,
      "margin": null,
      "max_height": null,
      "max_width": null,
      "min_height": null,
      "min_width": null,
      "object_fit": null,
      "object_position": null,
      "order": null,
      "overflow": null,
      "overflow_x": null,
      "overflow_y": null,
      "padding": null,
      "right": null,
      "top": null,
      "visibility": null,
      "width": null
     }
    },
    "f67d5b8ed651482fa43e5750548e8205": {
     "model_module": "@jupyter-widgets/controls",
     "model_name": "ProgressStyleModel",
     "state": {
      "_model_module": "@jupyter-widgets/controls",
      "_model_module_version": "1.5.0",
      "_model_name": "ProgressStyleModel",
      "_view_count": null,
      "_view_module": "@jupyter-widgets/base",
      "_view_module_version": "1.2.0",
      "_view_name": "StyleView",
      "bar_color": null,
      "description_width": "initial"
     }
    }
   }
  }
 },
 "nbformat": 4,
 "nbformat_minor": 5
}
